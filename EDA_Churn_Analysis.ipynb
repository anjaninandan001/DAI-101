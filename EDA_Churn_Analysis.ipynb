{
 "cells": [
  {
   "cell_type": "markdown",
   "id": "6a1f5e34",
   "metadata": {},
   "source": [
    "# **Exploratory Data Analysis (EDA) on Churn Dataset**\n",
    "This notebook performs a comprehensive EDA, including univariate, bivariate analysis, outlier detection, and correlation analysis.\n"
   ]
  },
  {
   "cell_type": "code",
   "execution_count": null,
   "id": "91e34d9f",
   "metadata": {},
   "outputs": [],
   "source": [
    "import pandas as pd\n",
    "import matplotlib.pyplot as plt\n",
    "import seaborn as sns"
   ]
  },
  {
   "cell_type": "code",
   "execution_count": null,
   "id": "edaf1a7e",
   "metadata": {},
   "outputs": [],
   "source": [
    "# **Load the Dataset**\n",
    "file_path = \"/mnt/data/Churn_Modelling (2).csv\"\n",
    "df = pd.read_csv(file_path)\n",
    "print(\"## Dataset Overview\")\n",
    "df.info()\n",
    "df.head()"
   ]
  },
  {
   "cell_type": "code",
   "execution_count": null,
   "id": "10902ada",
   "metadata": {},
   "outputs": [],
   "source": [
    "# **Univariate Analysis**\n",
    "sns.set_style(\"whitegrid\")\n",
    "num_cols = df.select_dtypes(include=['int64', 'float64']).columns\n",
    "\n",
    "fig, axes = plt.subplots(nrows=3, ncols=3, figsize=(15, 12))\n",
    "axes = axes.flatten()\n",
    "\n",
    "for i, col in enumerate(num_cols[2:]):  # Excluding RowNumber & CustomerId\n",
    "    sns.histplot(df[col], kde=True, ax=axes[i], bins=30)\n",
    "    axes[i].set_title(f\"Distribution of {col}\")\n",
    "\n",
    "plt.tight_layout()\n",
    "plt.show()"
   ]
  },
  {
   "cell_type": "code",
   "execution_count": null,
   "id": "b9a122a6",
   "metadata": {},
   "outputs": [],
   "source": [
    "# **Categorical Variables Analysis**\n",
    "cat_cols = ['Geography', 'Gender', 'HasCrCard', 'IsActiveMember', 'NumOfProducts', 'Exited']\n",
    "\n",
    "fig, axes = plt.subplots(nrows=2, ncols=3, figsize=(15, 10))\n",
    "axes = axes.flatten()\n",
    "\n",
    "for i, col in enumerate(cat_cols):\n",
    "    sns.countplot(x=df[col], palette=\"coolwarm\", ax=axes[i])\n",
    "    axes[i].set_title(f\"Count of {col}\")\n",
    "\n",
    "plt.tight_layout()\n",
    "plt.show()"
   ]
  },
  {
   "cell_type": "code",
   "execution_count": null,
   "id": "db1ab0d5",
   "metadata": {},
   "outputs": [],
   "source": [
    "# **Bivariate Analysis (Churn vs. Categorical Variables)**\n",
    "fig, axes = plt.subplots(nrows=2, ncols=3, figsize=(15, 10))\n",
    "axes = axes.flatten()\n",
    "\n",
    "for i, col in enumerate(cat_cols[:-1]):  # Exclude 'Exited' itself\n",
    "    sns.countplot(x=df[col], hue=df['Exited'], palette=\"coolwarm\", ax=axes[i])\n",
    "    axes[i].set_title(f\"Churn Distribution by {col}\")\n",
    "\n",
    "plt.tight_layout()\n",
    "plt.show()"
   ]
  },
  {
   "cell_type": "code",
   "execution_count": null,
   "id": "74d87721",
   "metadata": {},
   "outputs": [],
   "source": [
    "# **Outlier Detection using IQR**\n",
    "def detect_outliers_iqr(data, column):\n",
    "    Q1 = data[column].quantile(0.25)\n",
    "    Q3 = data[column].quantile(0.75)\n",
    "    IQR = Q3 - Q1\n",
    "    lower_bound = Q1 - 1.5 * IQR\n",
    "    upper_bound = Q3 + 1.5 * IQR\n",
    "    outliers = data[(data[column] < lower_bound) | (data[column] > upper_bound)]\n",
    "    return outliers.shape[0]\n",
    "\n",
    "outlier_counts = {col: detect_outliers_iqr(df, col) for col in num_cols[2:]}\n",
    "print(\"## Outlier Detection using IQR\")\n",
    "print(outlier_counts)"
   ]
  },
  {
   "cell_type": "code",
   "execution_count": null,
   "id": "c078540d",
   "metadata": {},
   "outputs": [],
   "source": [
    "# **Correlation Analysis**\n",
    "plt.figure(figsize=(10, 6))\n",
    "sns.heatmap(df[num_cols].corr(), annot=True, cmap=\"coolwarm\", fmt=\".2f\", linewidths=0.5)\n",
    "plt.title(\"Correlation Heatmap\")\n",
    "plt.show()"
   ]
  }
 ],
 "metadata": {},
 "nbformat": 4,
 "nbformat_minor": 5
}
